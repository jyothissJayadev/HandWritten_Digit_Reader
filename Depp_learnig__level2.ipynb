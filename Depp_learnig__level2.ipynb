{
  "nbformat": 4,
  "nbformat_minor": 0,
  "metadata": {
    "colab": {
      "provenance": [],
      "authorship_tag": "ABX9TyOaaipOvPpkWYtqh2SCEHBd",
      "include_colab_link": true
    },
    "kernelspec": {
      "name": "python3",
      "display_name": "Python 3"
    },
    "language_info": {
      "name": "python"
    }
  },
  "cells": [
    {
      "cell_type": "markdown",
      "metadata": {
        "id": "view-in-github",
        "colab_type": "text"
      },
      "source": [
        "<a href=\"https://colab.research.google.com/github/jyothissJayadev/HandWritten_Digit_Reader/blob/main/Depp_learnig__level2.ipynb\" target=\"_parent\"><img src=\"https://colab.research.google.com/assets/colab-badge.svg\" alt=\"Open In Colab\"/></a>"
      ]
    },
    {
      "cell_type": "code",
      "execution_count": 59,
      "metadata": {
        "id": "TOsnL-sH7azw"
      },
      "outputs": [],
      "source": [
        "import torch\n",
        "import torchvision\n",
        "from torchvision.datasets import MNIST\n",
        "import torchvision.transforms as transforms\n",
        "from torch.utils.data import random_split\n",
        "from torch.utils.data import DataLoader\n",
        "import torch.nn as nn\n",
        "import torch.nn.functional as F"
      ]
    },
    {
      "cell_type": "code",
      "source": [
        "dataset = MNIST(root='data/', download=True)"
      ],
      "metadata": {
        "id": "kkB2plTOLnBT"
      },
      "execution_count": 60,
      "outputs": []
    },
    {
      "cell_type": "code",
      "source": [
        "test_dataset = MNIST(root='data/',\n",
        "                     train=False,\n",
        "                     transform=transforms.ToTensor())"
      ],
      "metadata": {
        "id": "JtNF5ZtjLnuY"
      },
      "execution_count": 61,
      "outputs": []
    },
    {
      "cell_type": "code",
      "source": [
        "import matplotlib.pyplot as plt\n",
        "%matplotlib inline"
      ],
      "metadata": {
        "id": "ot22fbRmLupX"
      },
      "execution_count": 62,
      "outputs": []
    },
    {
      "cell_type": "code",
      "source": [
        "dataset = MNIST(root='data/',\n",
        "                train=True,\n",
        "                transform=transforms.ToTensor())"
      ],
      "metadata": {
        "id": "DaaaoxoyMgDB"
      },
      "execution_count": 63,
      "outputs": []
    },
    {
      "cell_type": "code",
      "source": [
        "image,label=dataset[0]\n",
        "plt.imshow(image[0,10:15,10:15], cmap='gray');\n"
      ],
      "metadata": {
        "colab": {
          "base_uri": "https://localhost:8080/",
          "height": 430
        },
        "id": "FCLbUJzWMIzx",
        "outputId": "b77ff5f2-47f0-49f9-92df-083ed316f723"
      },
      "execution_count": 64,
      "outputs": [
        {
          "output_type": "display_data",
          "data": {
            "text/plain": [
              "<Figure size 640x480 with 1 Axes>"
            ],
            "image/png": "[encoded data removed]"
          },
          "metadata": {}
        }
      ]
    },
    {
      "cell_type": "code",
      "source": [
        "train_ds, val_ds = random_split(dataset, [50000, 10000])\n",
        "len(train_ds), len(val_ds)\n",
        "batch_size=128\n",
        "train_dl=DataLoader(train_ds,batch_size,shuffle=True)\n",
        "val_dl=DataLoader(val_ds,batch_size)"
      ],
      "metadata": {
        "id": "EN85MjLDN3Ix"
      },
      "execution_count": 65,
      "outputs": []
    },
    {
      "cell_type": "code",
      "source": [
        "input_size=28*28\n",
        "output_size=10\n",
        "model=nn.Linear(input_size, output_size)\n",
        "model.weight"
      ],
      "metadata": {
        "colab": {
          "base_uri": "https://localhost:8080/"
        },
        "id": "_a0j5N9YRNMa",
        "outputId": "10992dfa-b728-45f7-8e2b-084f68720bc2"
      },
      "execution_count": 66,
      "outputs": [
        {
          "output_type": "execute_result",
          "data": {
            "text/plain": [
              "Parameter containing:\n",
              "tensor([[ 0.0313,  0.0220,  0.0218,  ..., -0.0027,  0.0009, -0.0295],\n",
              "        [-0.0113,  0.0276,  0.0084,  ...,  0.0131,  0.0294,  0.0345],\n",
              "        [-0.0012,  0.0263,  0.0168,  ..., -0.0220, -0.0001, -0.0045],\n",
              "        ...,\n",
              "        [ 0.0351, -0.0279,  0.0140,  ...,  0.0211,  0.0074,  0.0238],\n",
              "        [ 0.0118,  0.0076, -0.0008,  ..., -0.0243, -0.0136, -0.0311],\n",
              "        [ 0.0288,  0.0069, -0.0014,  ...,  0.0237, -0.0284, -0.0084]],\n",
              "       requires_grad=True)"
            ]
          },
          "metadata": {},
          "execution_count": 66
        }
      ]
    },
    {
      "cell_type": "code",
      "source": [
        "class MnistModel(nn.Module):\n",
        "    def __init__(self):\n",
        "        super().__init__()\n",
        "        self.linear = nn.Linear(input_size, output_size)\n",
        "\n",
        "    def forward(self, xb):\n",
        "        xb = xb.reshape(-1, 784)\n",
        "        out = self.linear(xb)\n",
        "        return out\n",
        "model=MnistModel()"
      ],
      "metadata": {
        "id": "KlmwScmLSXCQ"
      },
      "execution_count": 67,
      "outputs": []
    },
    {
      "cell_type": "code",
      "source": [
        "list(model.parameters())"
      ],
      "metadata": {
        "colab": {
          "base_uri": "https://localhost:8080/"
        },
        "id": "HaZcoHinUYe7",
        "outputId": "da5ce3bc-62cb-4366-b117-bf7e2a4b4203"
      },
      "execution_count": 68,
      "outputs": [
        {
          "output_type": "execute_result",
          "data": {
            "text/plain": [
              "[Parameter containing:\n",
              " tensor([[ 0.0089, -0.0098, -0.0252,  ...,  0.0188,  0.0334, -0.0193],\n",
              "         [-0.0188, -0.0121, -0.0137,  ..., -0.0108, -0.0279,  0.0162],\n",
              "         [-0.0255,  0.0336, -0.0054,  ..., -0.0205,  0.0127, -0.0250],\n",
              "         ...,\n",
              "         [ 0.0285, -0.0330,  0.0155,  ...,  0.0272, -0.0053,  0.0242],\n",
              "         [-0.0131,  0.0228,  0.0224,  ..., -0.0252, -0.0335, -0.0035],\n",
              "         [ 0.0286, -0.0276,  0.0086,  ..., -0.0042,  0.0135,  0.0304]],\n",
              "        requires_grad=True),\n",
              " Parameter containing:\n",
              " tensor([-0.0156,  0.0154, -0.0353,  0.0021,  0.0188,  0.0229, -0.0344,  0.0274,\n",
              "         -0.0212, -0.0037], requires_grad=True)]"
            ]
          },
          "metadata": {},
          "execution_count": 68
        }
      ]
    },
    {
      "cell_type": "code",
      "source": [
        "for images, labels in train_dl:\n",
        "    print(images.shape)\n",
        "    outputs = model(images)\n",
        "    break\n",
        "\n",
        "print('outputs.shape : ', outputs.shape)\n",
        "print('Sample outputs :\\n', outputs[:2].data)"
      ],
      "metadata": {
        "colab": {
          "base_uri": "https://localhost:8080/"
        },
        "id": "l0OYw54fUpNB",
        "outputId": "915dc3ba-699d-4bbb-fca1-08a10fa02dcd"
      },
      "execution_count": 69,
      "outputs": [
        {
          "output_type": "stream",
          "name": "stdout",
          "text": [
            "torch.Size([128, 1, 28, 28])\n",
            "outputs.shape :  torch.Size([128, 10])\n",
            "Sample outputs :\n",
            " tensor([[ 0.2350,  0.3481,  0.0213, -0.0947, -0.1288,  0.0872, -0.1701, -0.2246,\n",
            "          0.1034,  0.1169],\n",
            "        [ 0.2180,  0.4326, -0.1878, -0.0875, -0.0309, -0.2427, -0.1583,  0.0429,\n",
            "         -0.0272,  0.0508]])\n"
          ]
        }
      ]
    },
    {
      "cell_type": "code",
      "source": [
        "def accuracy(outputs, labels):\n",
        "    _, preds = torch.max(outputs, dim=1)\n",
        "    return torch.tensor(torch.sum(preds == labels).item() / len(preds))"
      ],
      "metadata": {
        "id": "P5fMFYTJXhje"
      },
      "execution_count": 70,
      "outputs": []
    },
    {
      "cell_type": "code",
      "source": [
        "def evaluate(model, val_loader):\n",
        "    outputs = [model.validation_step(batch) for batch in val_loader]\n",
        "    return model.validation_epoch_end(outputs)"
      ],
      "metadata": {
        "id": "6QwztoQNm4LH"
      },
      "execution_count": 71,
      "outputs": []
    },
    {
      "cell_type": "code",
      "source": [
        "class MnistModel(nn.Module):\n",
        "    def __init__(self):\n",
        "        super().__init__()\n",
        "        self.linear = nn.Linear(input_size, output_size)\n",
        "\n",
        "    def forward(self, xb):\n",
        "        xb = xb.reshape(-1, 784)\n",
        "        out = self.linear(xb)\n",
        "        return out\n",
        "\n",
        "    def training_step(self, batch):\n",
        "        images, labels = batch\n",
        "        out = self(images)                  # Generate predictions\n",
        "        loss = F.cross_entropy(out, labels) # Calculate loss\n",
        "        return loss\n",
        "\n",
        "    def validation_step(self, batch):\n",
        "        images, labels = batch\n",
        "        out = self(images)                    # Generate predictions\n",
        "        loss = F.cross_entropy(out, labels)   # Calculate loss\n",
        "        acc = accuracy(out, labels)           # Calculate accuracy\n",
        "        return {'val_loss': loss, 'val_acc': acc}\n",
        "\n",
        "    def validation_epoch_end(self, outputs):\n",
        "        batch_losses = [x['val_loss'] for x in outputs]\n",
        "        epoch_loss = torch.stack(batch_losses).mean()   # Combine losses\n",
        "        batch_accs = [x['val_acc'] for x in outputs]\n",
        "        epoch_acc = torch.stack(batch_accs).mean()      # Combine accuracies\n",
        "        return {'val_loss': epoch_loss.item(), 'val_acc': epoch_acc.item()}\n",
        "\n",
        "    def epoch_end(self, epoch, result):\n",
        "        print(\"Epoch [{}], val_loss: {:.4f}, val_acc: {:.4f}\".format(epoch, result['val_loss'], result['val_acc']))\n",
        "\n",
        "model = MnistModel()"
      ],
      "metadata": {
        "id": "Zoqg-g9xeFZG"
      },
      "execution_count": 88,
      "outputs": []
    },
    {
      "cell_type": "code",
      "source": [
        "def fit(epochs, lr, model, train_dl, val_dl, opt_func=torch.optim.SGD):\n",
        "    optimizer = opt_func(model.parameters(), lr)\n",
        "    history = [] # for recording epoch-wise results\n",
        "\n",
        "    for epoch in range(epochs):\n",
        "\n",
        "        # Training Phase\n",
        "        for batch in train_dl:\n",
        "            loss = model.training_step(batch)\n",
        "            loss.backward()\n",
        "            optimizer.step()\n",
        "            optimizer.zero_grad()\n",
        "\n",
        "        # Validation phase\n",
        "        result = evaluate(model, val_dl)\n",
        "        model.epoch_end(epoch, result)\n",
        "        history.append(result)\n",
        "\n",
        "    return history"
      ],
      "metadata": {
        "id": "PSzFAzBdaudI"
      },
      "execution_count": 85,
      "outputs": []
    },
    {
      "cell_type": "code",
      "source": [
        "history2 = fit(5, 0.001, model, train_dl, val_dl)"
      ],
      "metadata": {
        "colab": {
          "base_uri": "https://localhost:8080/"
        },
        "id": "6dVePNjia7Z4",
        "outputId": "da3513a2-bea1-48eb-cfbd-c7e3795334c1"
      },
      "execution_count": 89,
      "outputs": [
        {
          "output_type": "stream",
          "name": "stdout",
          "text": [
            "Epoch [0], val_loss: 1.9571, val_acc: 0.6331\n",
            "Epoch [1], val_loss: 1.6838, val_acc: 0.7414\n",
            "Epoch [2], val_loss: 1.4798, val_acc: 0.7748\n",
            "Epoch [3], val_loss: 1.3260, val_acc: 0.7924\n",
            "Epoch [4], val_loss: 1.2079, val_acc: 0.8030\n"
          ]
        }
      ]
    },
    {
      "cell_type": "code",
      "source": [
        "history2 = fit(5, 0.001, model, train_dl, val_dl)"
      ],
      "metadata": {
        "colab": {
          "base_uri": "https://localhost:8080/"
        },
        "id": "my4a-4z7bB9T",
        "outputId": "4a2fb549-e505-48d0-a189-301cee7fa0cd"
      },
      "execution_count": 90,
      "outputs": [
        {
          "output_type": "stream",
          "name": "stdout",
          "text": [
            "Epoch [0], val_loss: 1.1155, val_acc: 0.8131\n",
            "Epoch [1], val_loss: 1.0416, val_acc: 0.8194\n",
            "Epoch [2], val_loss: 0.9813, val_acc: 0.8236\n",
            "Epoch [3], val_loss: 0.9311, val_acc: 0.8268\n",
            "Epoch [4], val_loss: 0.8888, val_acc: 0.8306\n"
          ]
        }
      ]
    },
    {
      "cell_type": "code",
      "source": [
        "history2 = fit(5, 0.001, model, train_dl, val_dl)"
      ],
      "metadata": {
        "colab": {
          "base_uri": "https://localhost:8080/"
        },
        "id": "wcXznccIbQ1I",
        "outputId": "01d94fb0-ab43-4f7c-da3b-a461019169f4"
      },
      "execution_count": 91,
      "outputs": [
        {
          "output_type": "stream",
          "name": "stdout",
          "text": [
            "Epoch [0], val_loss: 0.8527, val_acc: 0.8335\n",
            "Epoch [1], val_loss: 0.8213, val_acc: 0.8358\n",
            "Epoch [2], val_loss: 0.7940, val_acc: 0.8381\n",
            "Epoch [3], val_loss: 0.7698, val_acc: 0.8422\n",
            "Epoch [4], val_loss: 0.7483, val_acc: 0.8446\n"
          ]
        }
      ]
    },
    {
      "cell_type": "code",
      "source": [
        "history2 = fit(5, 0.001, model, train_dl, val_dl)"
      ],
      "metadata": {
        "colab": {
          "base_uri": "https://localhost:8080/"
        },
        "id": "BkdipMRSbhNn",
        "outputId": "df8d9efd-7881-4d1b-b91f-8f50e3fa2e9b"
      },
      "execution_count": 92,
      "outputs": [
        {
          "output_type": "stream",
          "name": "stdout",
          "text": [
            "Epoch [0], val_loss: 0.7291, val_acc: 0.8456\n",
            "Epoch [1], val_loss: 0.7117, val_acc: 0.8476\n",
            "Epoch [2], val_loss: 0.6959, val_acc: 0.8488\n",
            "Epoch [3], val_loss: 0.6816, val_acc: 0.8511\n",
            "Epoch [4], val_loss: 0.6684, val_acc: 0.8528\n"
          ]
        }
      ]
    },
    {
      "cell_type": "code",
      "source": [
        "history2 = fit(5, 0.001, model, train_dl, val_dl)"
      ],
      "metadata": {
        "colab": {
          "base_uri": "https://localhost:8080/"
        },
        "id": "9lTn39TAbiut",
        "outputId": "47048ca9-4c49-4d88-c2ef-3bf236e0626a"
      },
      "execution_count": 93,
      "outputs": [
        {
          "output_type": "stream",
          "name": "stdout",
          "text": [
            "Epoch [0], val_loss: 0.6563, val_acc: 0.8536\n",
            "Epoch [1], val_loss: 0.6451, val_acc: 0.8555\n",
            "Epoch [2], val_loss: 0.6347, val_acc: 0.8569\n",
            "Epoch [3], val_loss: 0.6251, val_acc: 0.8585\n",
            "Epoch [4], val_loss: 0.6161, val_acc: 0.8596\n"
          ]
        }
      ]
    },
    {
      "cell_type": "code",
      "source": [
        "def predict_image(img, model):\n",
        "    xb = img.unsqueeze(0)\n",
        "    yb = model(xb)\n",
        "    _, preds = torch.max(yb, dim=1)\n",
        "    return preds[0].item()"
      ],
      "metadata": {
        "id": "z4_Ub1vtXugr"
      },
      "execution_count": 94,
      "outputs": []
    },
    {
      "cell_type": "code",
      "source": [
        "image, label = test_dataset[12]\n",
        "plt.imshow(image[0], cmap='gray')\n",
        "print('Label:', label, ', Predicted:', predict_image(image, model))"
      ],
      "metadata": {
        "colab": {
          "base_uri": "https://localhost:8080/",
          "height": 448
        },
        "id": "cmWj4oqdX9VS",
        "outputId": "77e9a4d0-37ed-434a-fbbd-c82e3230a7ea"
      },
      "execution_count": 99,
      "outputs": [
        {
          "output_type": "stream",
          "name": "stdout",
          "text": [
            "Label: 9 , Predicted: 9\n"
          ]
        },
        {
          "output_type": "display_data",
          "data": {
            "text/plain": [
              "<Figure size 640x480 with 1 Axes>"
            ],
            "image/png": "[encoded data removed]"
          },
          "metadata": {}
        }
      ]
    },
    {
      "cell_type": "code",
      "source": [
        "image, label = test_dataset[10]\n",
        "plt.imshow(image[0], cmap='gray')\n",
        "print('Label:', label, ', Predicted:', predict_image(image, model))"
      ],
      "metadata": {
        "colab": {
          "base_uri": "https://localhost:8080/",
          "height": 448
        },
        "id": "jo9fvT3hYAZy",
        "outputId": "1fb63e5f-4a08-4e05-a011-714f18bee9c1"
      },
      "execution_count": 100,
      "outputs": [
        {
          "output_type": "stream",
          "name": "stdout",
          "text": [
            "Label: 0 , Predicted: 0\n"
          ]
        },
        {
          "output_type": "display_data",
          "data": {
            "text/plain": [
              "<Figure size 640x480 with 1 Axes>"
            ],
            "image/png": "[encoded data removed]"
          },
          "metadata": {}
        }
      ]
    },
    {
      "cell_type": "code",
      "source": [
        "image, label = test_dataset[90]\n",
        "plt.imshow(image[0], cmap='gray')\n",
        "print('Label:', label, ', Predicted:', predict_image(image, model))"
      ],
      "metadata": {
        "colab": {
          "base_uri": "https://localhost:8080/",
          "height": 448
        },
        "id": "6CqlqhDReeit",
        "outputId": "cf17b580-fadb-433d-d29e-07c4481e987d"
      },
      "execution_count": 101,
      "outputs": [
        {
          "output_type": "stream",
          "name": "stdout",
          "text": [
            "Label: 3 , Predicted: 3\n"
          ]
        },
        {
          "output_type": "display_data",
          "data": {
            "text/plain": [
              "<Figure size 640x480 with 1 Axes>"
            ],
            "image/png": "[encoded data removed]"
          },
          "metadata": {}
        }
      ]
    },
    {
      "cell_type": "code",
      "source": [
        "image, label = test_dataset[15]\n",
        "plt.imshow(image[0], cmap='gray')\n",
        "print('Label:', label, ', Predicted:', predict_image(image, model))"
      ],
      "metadata": {
        "colab": {
          "base_uri": "https://localhost:8080/",
          "height": 448
        },
        "id": "VbMQ7ky8efOS",
        "outputId": "d87a57ef-9cbd-4d72-a39f-d5d459263936"
      },
      "execution_count": 98,
      "outputs": [
        {
          "output_type": "stream",
          "name": "stdout",
          "text": [
            "Label: 5 , Predicted: 5\n"
          ]
        },
        {
          "output_type": "display_data",
          "data": {
            "text/plain": [
              "<Figure size 640x480 with 1 Axes>"
            ],
            "image/png": "[encoded data removed]"
          },
          "metadata": {}
        }
      ]
    },
    {
      "cell_type": "code",
      "source": [],
      "metadata": {
        "id": "-23QGVbJelBi"
      },
      "execution_count": null,
      "outputs": []
    }
  ]
}